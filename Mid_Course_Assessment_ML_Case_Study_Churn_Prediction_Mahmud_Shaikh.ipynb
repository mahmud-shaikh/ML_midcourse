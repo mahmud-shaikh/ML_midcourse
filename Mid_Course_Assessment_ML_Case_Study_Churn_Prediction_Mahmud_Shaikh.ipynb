{
  "nbformat": 4,
  "nbformat_minor": 0,
  "metadata": {
    "colab": {
      "private_outputs": true,
      "provenance": [],
      "collapsed_sections": [
        "VFOzZv6IFROw",
        "PiV4Ypx8fxKe",
        "-Kee-DAl2viO",
        "gIfDvo9L0UH2"
      ]
    },
    "kernelspec": {
      "name": "python3",
      "display_name": "Python 3"
    },
    "language_info": {
      "name": "python"
    }
  },
  "cells": [
    {
      "cell_type": "markdown",
      "source": [
        "# **Project Name**    - Churn Prediction\n",
        "\n"
      ],
      "metadata": {
        "id": "vncDsAP0Gaoa"
      }
    },
    {
      "cell_type": "markdown",
      "source": [
        "##### **Project Type**    - Supervised Classification\n",
        "##### **Contribution**    - Individual\n",
        "##### **Team Member 1 -** Mahmud Shaikh\n",
        "##### **Team Member 2 -**\n",
        "##### **Team Member 3 -**\n",
        "##### **Team Member 4 -**"
      ],
      "metadata": {
        "id": "beRrZCGUAJYm"
      }
    },
    {
      "cell_type": "markdown",
      "source": [
        "# **Project Summary -**"
      ],
      "metadata": {
        "id": "FJNUwmbgGyua"
      }
    },
    {
      "cell_type": "markdown",
      "source": [
        "In this project, I analyzed a customer churn dataset to build a classification model that predicts whether a customer will leave the company. I performed data preprocessing, handled categorical variables, and explored key features influencing churn. Various classification algorithms such as Logistic Regression, Random Forest, and XGBoost were evaluated. Model performance was assessed using metrics like accuracy, precision, recall, and the AUC-ROC curve to ensure robust prediction quality. The goal was to help the business identify at-risk customers and take proactive retention measures."
      ],
      "metadata": {
        "id": "F6v_1wHtG2nS"
      }
    },
    {
      "cell_type": "markdown",
      "source": [
        "# **GitHub Link -**"
      ],
      "metadata": {
        "id": "w6K7xa23Elo4"
      }
    },
    {
      "cell_type": "markdown",
      "source": [
        "https://github.com/mahmud-shaikh/ML_midcourse"
      ],
      "metadata": {
        "id": "h1o69JH3Eqqn"
      }
    },
    {
      "cell_type": "markdown",
      "source": [
        "# **Problem Statement**\n"
      ],
      "metadata": {
        "id": "yQaldy8SH6Dl"
      }
    },
    {
      "cell_type": "markdown",
      "source": [
        "**BUSINESS PROBLEM OVERVIEW**\n",
        "\n",
        "Customer retention is a major challenge for businesses in today’s competitive market. It is more cost-effective to retain existing customers than to acquire new ones. However, identifying customers who are likely to leave the service—known as “churn”—can be difficult without proper tools. The goal of this project is to build a machine learning model that can accurately predict whether a customer is likely to churn based on their profile and behavior.\n",
        "\n",
        "The dataset used contains information about customers such as credit score, geography, gender, age, tenure, balance, number of products, whether they have a credit card, if they are active members, and estimated salary. These features help us understand customer patterns and make predictions.\n",
        "\n",
        "By creating a classification model, we aim to help the company take early action to retain at-risk customers. The model's performance will be evaluated using accuracy and other classification metrics, with a special focus on the AUC-ROC score, which helps us understand how well the model can separate churned customers from non-churned ones. This project will not only support decision-making but also improve customer satisfaction and reduce revenue loss."
      ],
      "metadata": {
        "id": "DpeJGUA3kjGy"
      }
    },
    {
      "cell_type": "markdown",
      "source": [
        "# **General Guidelines** : -  "
      ],
      "metadata": {
        "id": "mDgbUHAGgjLW"
      }
    },
    {
      "cell_type": "markdown",
      "source": [
        "1.   Well-structured, formatted, and commented code is required.\n",
        "2.   Exception Handling, Production Grade Code & Deployment Ready Code will be a plus. Those students will be awarded some additional credits.\n",
        "     \n",
        "     The additional credits will have advantages over other students during Star Student selection.\n",
        "       \n",
        "             [ Note: - Deployment Ready Code is defined as, the whole .ipynb notebook should be executable in one go\n",
        "                       without a single error logged. ]\n",
        "\n",
        "3.   Each and every logic should have proper comments.\n",
        "4. You may add as many number of charts you want. Make Sure for each and every chart the following format should be answered.\n",
        "        \n",
        "\n",
        "```\n",
        "# Chart visualization code\n",
        "```\n",
        "            \n",
        "\n",
        "*   Why did you pick the specific chart?\n",
        "*   What is/are the insight(s) found from the chart?\n",
        "* Will the gained insights help creating a positive business impact?\n",
        "Are there any insights that lead to negative growth? Justify with specific reason.\n",
        "\n",
        "5. You have to create at least 15 logical & meaningful charts having important insights.\n",
        "\n",
        "\n",
        "[ Hints : - Do the Vizualization in  a structured way while following \"UBM\" Rule.\n",
        "\n",
        "U - Univariate Analysis,\n",
        "\n",
        "B - Bivariate Analysis (Numerical - Categorical, Numerical - Numerical, Categorical - Categorical)\n",
        "\n",
        "M - Multivariate Analysis\n",
        " ]\n",
        "\n",
        "\n",
        "\n",
        "\n",
        "\n",
        "6. You may add more ml algorithms for model creation. Make sure for each and every algorithm, the following format should be answered.\n",
        "\n",
        "\n",
        "*   Explain the ML Model used and it's performance using Evaluation metric Score Chart.\n",
        "\n",
        "\n",
        "*   Cross- Validation & Hyperparameter Tuning\n",
        "\n",
        "*   Have you seen any improvement? Note down the improvement with updates Evaluation metric Score Chart.\n",
        "\n",
        "*   Explain each evaluation metric's indication towards business and the business impact pf the ML model used.\n",
        "\n",
        "\n",
        "\n",
        "\n",
        "\n",
        "\n",
        "\n",
        "\n",
        "\n",
        "\n",
        "\n",
        "\n",
        "\n",
        "\n",
        "\n",
        "\n",
        "\n",
        "\n"
      ],
      "metadata": {
        "id": "ZrxVaUj-hHfC"
      }
    },
    {
      "cell_type": "markdown",
      "source": [
        "# ***Let's Begin !***"
      ],
      "metadata": {
        "id": "O_i_v8NEhb9l"
      }
    },
    {
      "cell_type": "markdown",
      "source": [
        "## ***1. Know Your Data***"
      ],
      "metadata": {
        "id": "HhfV-JJviCcP"
      }
    },
    {
      "cell_type": "markdown",
      "source": [
        "### Import Libraries"
      ],
      "metadata": {
        "id": "Y3lxredqlCYt"
      }
    },
    {
      "cell_type": "code",
      "source": [
        "# Import Libraries\n",
        "import pandas as pd\n",
        "import numpy as np\n",
        "import seaborn as sns\n",
        "import matplotlib.pyplot as plt\n",
        "import warnings\n",
        "warnings.filterwarnings('ignore')\n",
        "\n",
        "from sklearn.preprocessing import LabelEncoder\n",
        "from sklearn.model_selection import train_test_split\n",
        "from sklearn.linear_model import LogisticRegression\n",
        "from sklearn.naive_bayes import GaussianNB\n",
        "from sklearn.tree import DecisionTreeClassifier\n",
        "from sklearn.ensemble import RandomForestClassifier\n",
        "from sklearn.neighbors import KNeighborsClassifier\n",
        "from sklearn.svm import SVC\n",
        "import xgboost as xgb\n",
        "\n",
        "from sklearn import metrics\n",
        "from sklearn.metrics import accuracy_score, auc, confusion_matrix, roc_auc_score, roc_curve, recall_score"
      ],
      "metadata": {
        "id": "M8Vqi-pPk-HR"
      },
      "execution_count": null,
      "outputs": []
    },
    {
      "cell_type": "markdown",
      "source": [
        "### Dataset Loading"
      ],
      "metadata": {
        "id": "3RnN4peoiCZX"
      }
    },
    {
      "cell_type": "code",
      "source": [
        "# Load Dataset\n",
        "df=pd.read_csv('/content/Churn Modeling.csv')\n",
        "df"
      ],
      "metadata": {
        "id": "4CkvbW_SlZ_R"
      },
      "execution_count": null,
      "outputs": []
    },
    {
      "cell_type": "markdown",
      "source": [
        "### Dataset First View"
      ],
      "metadata": {
        "id": "x71ZqKXriCWQ"
      }
    },
    {
      "cell_type": "code",
      "source": [
        "# Dataset First Look\n",
        "df.head()"
      ],
      "metadata": {
        "id": "LWNFOSvLl09H"
      },
      "execution_count": null,
      "outputs": []
    },
    {
      "cell_type": "markdown",
      "source": [
        "### Dataset Rows & Columns count"
      ],
      "metadata": {
        "id": "7hBIi_osiCS2"
      }
    },
    {
      "cell_type": "code",
      "source": [
        "# Dataset Rows & Columns count\n",
        "df.shape\n",
        "# There are 10000 rows and 14 columns"
      ],
      "metadata": {
        "id": "Kllu7SJgmLij"
      },
      "execution_count": null,
      "outputs": []
    },
    {
      "cell_type": "markdown",
      "source": [
        "### Dataset Information"
      ],
      "metadata": {
        "id": "JlHwYmJAmNHm"
      }
    },
    {
      "cell_type": "code",
      "source": [
        "# Dataset Info\n",
        "df.info()"
      ],
      "metadata": {
        "id": "e9hRXRi6meOf"
      },
      "execution_count": null,
      "outputs": []
    },
    {
      "cell_type": "markdown",
      "source": [
        "#### Duplicate Values"
      ],
      "metadata": {
        "id": "35m5QtbWiB9F"
      }
    },
    {
      "cell_type": "code",
      "source": [
        "# Dataset Duplicate Value Count\n",
        "df.duplicated().sum()\n",
        "# There is no duplicate value present in the dataset"
      ],
      "metadata": {
        "id": "1sLdpKYkmox0"
      },
      "execution_count": null,
      "outputs": []
    },
    {
      "cell_type": "markdown",
      "source": [
        "#### Missing Values/Null Values"
      ],
      "metadata": {
        "id": "PoPl-ycgm1ru"
      }
    },
    {
      "cell_type": "code",
      "source": [
        "# Missing Values/Null Values Count\n",
        "df.isnull().sum()\n",
        "# There is no missing value in the dataset"
      ],
      "metadata": {
        "id": "GgHWkxvamxVg"
      },
      "execution_count": null,
      "outputs": []
    },
    {
      "cell_type": "markdown",
      "source": [
        "### What did you know about your dataset?"
      ],
      "metadata": {
        "id": "H0kj-8xxnORC"
      }
    },
    {
      "cell_type": "markdown",
      "source": [
        "Answer: The dataset contains 10,000 rows and 14 columns, representing a sizable amount of information for analysis. There are no missing values or duplicate entries, indicating that the data is clean and ready for further processing and modeling. This suggests a reliable and well-maintained dataset suitable for generating meaningful insights."
      ],
      "metadata": {
        "id": "gfoNAAC-nUe_"
      }
    },
    {
      "cell_type": "markdown",
      "source": [
        "## ***2. Understanding Your Variables***"
      ],
      "metadata": {
        "id": "nA9Y7ga8ng1Z"
      }
    },
    {
      "cell_type": "code",
      "source": [
        "# Dataset Columns\n",
        "df.columns"
      ],
      "metadata": {
        "id": "j7xfkqrt5Ag5"
      },
      "execution_count": null,
      "outputs": []
    },
    {
      "cell_type": "code",
      "source": [
        "# Dataset Describe\n",
        "df.describe()"
      ],
      "metadata": {
        "id": "DnOaZdaE5Q5t"
      },
      "execution_count": null,
      "outputs": []
    },
    {
      "cell_type": "markdown",
      "source": [
        "### Variables Description"
      ],
      "metadata": {
        "id": "PBTbrJXOngz2"
      }
    },
    {
      "cell_type": "markdown",
      "source": [
        "**RowNumber**: Sequential index for each record (from 1 to 10,000). It holds no analytical value but helps in identifying rows.\n",
        "\n",
        "**CustomerId**: Unique ID assigned to each customer. Acts as an identifier and is not used for modeling.\n",
        "\n",
        "**CreditScore**: Numerical value representing the customer's creditworthiness. Ranges from 350 to 850, with a mean around 650.\n",
        "\n",
        "**Age**: Customer's age. Ranges from 18 to 92 years, with an average age of 38.9 years.\n",
        "\n",
        "**Tenure**: Number of years the customer has been with the bank. Values range from 0 to 10, with a mean of around 5 years.\n",
        "\n",
        "**Balance**: The account balance of the customer. Ranges from 0 to ~250,898.09. Around 25% of customers have zero balance.\n",
        "\n",
        "**NumOfProducts**: Number of bank products the customer uses. Ranges from 1 to 4, with most using 1 or 2 products.\n",
        "\n",
        "**HasCrCard**: Indicates whether the customer has a credit card (1 = Yes, 0 = No). Around 70.5% have a credit card.\n",
        "\n",
        "**IsActiveMember**: Indicates whether the customer is actively engaged (1 = Yes, 0 = No). About 51.5% are active members.\n",
        "\n",
        "**EstimatedSalary**: Estimated annual salary of the customer. Ranges from ~11.58 to ~199,992.48, with an average of ~100,090.\n",
        "\n",
        "**Exited: Target variable** – indicates if the customer has churned (1 = Yes, 0 = No). About 20.4% of customers have exited."
      ],
      "metadata": {
        "id": "aJV4KIxSnxay"
      }
    },
    {
      "cell_type": "markdown",
      "source": [
        "### Check Unique Values for each variable."
      ],
      "metadata": {
        "id": "u3PMJOP6ngxN"
      }
    },
    {
      "cell_type": "code",
      "source": [
        "# Check Unique Values for each variable.\n",
        "df.nunique()\n",
        "# The nunique() function is used to count distinct observations over requested axis. Return Series with number of distinct observations."
      ],
      "metadata": {
        "id": "zms12Yq5n-jE"
      },
      "execution_count": null,
      "outputs": []
    },
    {
      "cell_type": "markdown",
      "source": [
        "## 3. ***Data Wrangling***"
      ],
      "metadata": {
        "id": "dauF4eBmngu3"
      }
    },
    {
      "cell_type": "markdown",
      "source": [
        "### Data Wrangling Code"
      ],
      "metadata": {
        "id": "bKJF3rekwFvQ"
      }
    },
    {
      "cell_type": "code",
      "source": [
        "# Write your code to make your dataset analysis ready.\n",
        "# from sklearn.preprocessing import StandardScaler\n",
        "# Drop unnecessary columns\n",
        "df.drop(['RowNumber', 'CustomerId', 'Surname'], axis=1, inplace=True)\n",
        "df.head()"
      ],
      "metadata": {
        "id": "wk-9a2fpoLcV"
      },
      "execution_count": null,
      "outputs": []
    },
    {
      "cell_type": "markdown",
      "source": [
        "### What all manipulations have you done and insights you found?"
      ],
      "metadata": {
        "id": "MSa1f5Uengrz"
      }
    },
    {
      "cell_type": "markdown",
      "source": [
        "##Dropped Irrelevant Columns:\n",
        "Removed RowNumber, CustomerId, and Surname as they do not contribute to the model's predictive power.\n",
        "\n",
        "Handled Missing and Duplicate Values:\n",
        "\n",
        "Verified that there are no missing values in the dataset.\n",
        "\n",
        "Checked and confirmed that there are no duplicate rows.\n",
        "\n",
        "##Insights:\n",
        "\n",
        "**Balance Distribution**:\n",
        "\n",
        "A large number of customers have zero balance, suggesting many do not actively use the bank's saving services.\n",
        "\n",
        "**Exit Pattern**:\n",
        "\n",
        "Only around 20% of customers exited, indicating a class imbalance that should be handled during modeling.\n",
        "\n",
        "**Age and Churn**:\n",
        "\n",
        "The dataset's describe() shows that older individuals may be more prone to churn — this can be explored further in EDA."
      ],
      "metadata": {
        "id": "LbyXE7I1olp8"
      }
    },
    {
      "cell_type": "markdown",
      "source": [
        "## ***4. Data Vizualization, Storytelling & Experimenting with charts : Understand the relationships between variables***"
      ],
      "metadata": {
        "id": "GF8Ens_Soomf"
      }
    },
    {
      "cell_type": "markdown",
      "source": [
        "##**U-Univariate Analysis**"
      ],
      "metadata": {
        "id": "Eo6N75RpgjRW"
      }
    },
    {
      "cell_type": "markdown",
      "source": [
        "#### Chart 1 - **Countplot of Churn (Target Variable)**"
      ],
      "metadata": {
        "id": "0wOQAZs5pc--"
      }
    },
    {
      "cell_type": "code",
      "source": [
        "# Churn Distribution (Target Variable) -chart 1 visualization code\n",
        "sns.countplot(data=df, x='Exited', palette='Set2')\n",
        "plt.title('Distribution of Churn (Exited)')\n",
        "plt.xlabel('Exited (0 = No, 1 = Yes)')\n",
        "plt.ylabel('Count')\n",
        "plt.show()"
      ],
      "metadata": {
        "id": "7v_ESjsspbW7"
      },
      "execution_count": null,
      "outputs": []
    },
    {
      "cell_type": "markdown",
      "source": [
        "##### 1. Why did you pick the specific chart?"
      ],
      "metadata": {
        "id": "K5QZ13OEpz2H"
      }
    },
    {
      "cell_type": "markdown",
      "source": [
        "A countplot is perfect to understand the class balance of our target variable."
      ],
      "metadata": {
        "id": "XESiWehPqBRc"
      }
    },
    {
      "cell_type": "markdown",
      "source": [
        "##### 2. What is/are the insight(s) found from the chart?"
      ],
      "metadata": {
        "id": "lQ7QKXXCp7Bj"
      }
    },
    {
      "cell_type": "markdown",
      "source": [
        "The data is imbalanced—fewer customers have exited than stayed."
      ],
      "metadata": {
        "id": "C_j1G7yiqdRP"
      }
    },
    {
      "cell_type": "markdown",
      "source": [
        "##### 3. Will the gained insights help creating a positive business impact?\n",
        "Are there any insights that lead to negative growth? Justify with specific reason."
      ],
      "metadata": {
        "id": "448CDAPjqfQr"
      }
    },
    {
      "cell_type": "markdown",
      "source": [
        "**Business Impact**: Class imbalance may require handling before model building (e.g., SMOTE). If ignored, it can lead to biased predictions."
      ],
      "metadata": {
        "id": "3cspy4FjqxJW"
      }
    },
    {
      "cell_type": "markdown",
      "source": [
        "#### Chart - 2 **Histogram of Customer Age**"
      ],
      "metadata": {
        "id": "KSlN3yHqYklG"
      }
    },
    {
      "cell_type": "code",
      "source": [
        "# Age Distribution: Chart - 2 visualization code\n",
        "sns.histplot(df['Age'], kde=True, color='skyblue')\n",
        "plt.title('Distribution of Age')\n",
        "plt.xlabel('Age')\n",
        "plt.ylabel('Count')\n",
        "plt.show()"
      ],
      "metadata": {
        "id": "R4YgtaqtYklH"
      },
      "execution_count": null,
      "outputs": []
    },
    {
      "cell_type": "markdown",
      "source": [
        "##### 1. Why did you pick the specific chart?"
      ],
      "metadata": {
        "id": "t6dVpIINYklI"
      }
    },
    {
      "cell_type": "markdown",
      "source": [
        "**Ans**: Histogram shows how age is spread out among customers."
      ],
      "metadata": {
        "id": "5aaW0BYyYklI"
      }
    },
    {
      "cell_type": "markdown",
      "source": [
        "##### 2. What is/are the insight(s) found from the chart?"
      ],
      "metadata": {
        "id": "ijmpgYnKYklI"
      }
    },
    {
      "cell_type": "markdown",
      "source": [
        "**Ans**: Most customers are between 30 and 40, with a noticeable drop-off for older ages."
      ],
      "metadata": {
        "id": "PSx9atu2YklI"
      }
    },
    {
      "cell_type": "markdown",
      "source": [
        "##### 3. Will the gained insights help creating a positive business impact?\n",
        "Are there any insights that lead to negative growth? Justify with specific reason."
      ],
      "metadata": {
        "id": "-JiQyfWJYklI"
      }
    },
    {
      "cell_type": "markdown",
      "source": [
        "**Business Impact**: Helps segment campaigns for younger/middle-aged groups to retain customers better."
      ],
      "metadata": {
        "id": "BcBbebzrYklV"
      }
    },
    {
      "cell_type": "markdown",
      "source": [
        "#### Chart - 3 **Histogram of Customer's Balance**"
      ],
      "metadata": {
        "id": "EM7whBJCYoAo"
      }
    },
    {
      "cell_type": "code",
      "source": [
        "# Balance distribution visualization code\n",
        "plt.figure(figsize=(6,4))\n",
        "sns.histplot(df['Balance'], kde=True, color='orange')\n",
        "plt.title('Distribution of Balance')\n",
        "plt.show()"
      ],
      "metadata": {
        "id": "t6GMdE67YoAp"
      },
      "execution_count": null,
      "outputs": []
    },
    {
      "cell_type": "markdown",
      "source": [
        "##### 1. Why did you pick the specific chart?"
      ],
      "metadata": {
        "id": "fge-S5ZAYoAp"
      }
    },
    {
      "cell_type": "markdown",
      "source": [
        "**Ans**: The histogram is chosen to understand how the balance is distributed across all customers. It helps us observe the concentration, skewness, and spread of balance values."
      ],
      "metadata": {
        "id": "5dBItgRVYoAp"
      }
    },
    {
      "cell_type": "markdown",
      "source": [
        "##### 2. What is/are the insight(s) found from the chart?"
      ],
      "metadata": {
        "id": "85gYPyotYoAp"
      }
    },
    {
      "cell_type": "markdown",
      "source": [
        "**Ans**:\n",
        "The plot shows a right-skewed distribution, with a high number of customers having a very low balance (many close to 0), while a smaller portion holds a significantly higher balance. A peak near the lower end confirms that a large segment maintains minimal balance."
      ],
      "metadata": {
        "id": "4jstXR6OYoAp"
      }
    },
    {
      "cell_type": "markdown",
      "source": [
        "##### 3. Will the gained insights help creating a positive business impact?\n",
        "Are there any insights that lead to negative growth? Justify with specific reason."
      ],
      "metadata": {
        "id": "RoGjAbkUYoAp"
      }
    },
    {
      "cell_type": "markdown",
      "source": [
        "**Business Impact**:\n",
        "Identifying customers with low balances can help in targeting them with personalized credit offers, overdraft facilities, or financial planning services. Customers with higher balances can be approached for investment or premium financial products. This segmentation supports customer retention and revenue growth strategies."
      ],
      "metadata": {
        "id": "zfJ8IqMcYoAp"
      }
    },
    {
      "cell_type": "markdown",
      "source": [
        "#### Chart - 4 **Distribution of Credit Score**"
      ],
      "metadata": {
        "id": "4Of9eVA-YrdM"
      }
    },
    {
      "cell_type": "code",
      "source": [
        "# Credit Score Distribution visualization code\n",
        "sns.histplot(df['CreditScore'], bins=30, kde=True)\n",
        "plt.title('Credit Score Distribution')\n",
        "plt.xlabel('Credit Score')\n",
        "plt.ylabel('Frequency')\n",
        "plt.show()"
      ],
      "metadata": {
        "id": "irlUoxc8YrdO"
      },
      "execution_count": null,
      "outputs": []
    },
    {
      "cell_type": "markdown",
      "source": [
        "##### 1. Why did you pick the specific chart?"
      ],
      "metadata": {
        "id": "iky9q4vBYrdO"
      }
    },
    {
      "cell_type": "markdown",
      "source": [
        "**Answer**: To understand credit score distribution among customers."
      ],
      "metadata": {
        "id": "aJRCwT6DYrdO"
      }
    },
    {
      "cell_type": "markdown",
      "source": [
        "##### 2. What is/are the insight(s) found from the chart?"
      ],
      "metadata": {
        "id": "F6T5p64dYrdO"
      }
    },
    {
      "cell_type": "markdown",
      "source": [
        "**Answer**: Most customers have a credit score between 600–700."
      ],
      "metadata": {
        "id": "Xx8WAJvtYrdO"
      }
    },
    {
      "cell_type": "markdown",
      "source": [
        "##### 3. Will the gained insights help creating a positive business impact?\n",
        "Are there any insights that lead to negative growth? Justify with specific reason."
      ],
      "metadata": {
        "id": "y-Ehk30pYrdP"
      }
    },
    {
      "cell_type": "markdown",
      "source": [
        "**Business Impact**:\n",
        "Creditworthiness insights support risk-based customer profiling."
      ],
      "metadata": {
        "id": "jLNxxz7MYrdP"
      }
    },
    {
      "cell_type": "markdown",
      "source": [
        "#### Chart - 5 **Histogram of Tenure**"
      ],
      "metadata": {
        "id": "bamQiAODYuh1"
      }
    },
    {
      "cell_type": "code",
      "source": [
        "# Histogram of Tenure visualization code\n",
        "sns.histplot(df['Tenure'], bins=10, kde=False)\n",
        "plt.title('Customer Tenure Distribution')\n",
        "plt.xlabel('Tenure')\n",
        "plt.ylabel('Number of Customers')\n",
        "plt.show()"
      ],
      "metadata": {
        "id": "TIJwrbroYuh3"
      },
      "execution_count": null,
      "outputs": []
    },
    {
      "cell_type": "markdown",
      "source": [
        "##### 1. Why did you pick the specific chart?"
      ],
      "metadata": {
        "id": "QHF8YVU7Yuh3"
      }
    },
    {
      "cell_type": "markdown",
      "source": [
        "**Answer**: The histogram is used to understand how customer tenure (i.e., how many years customers have stayed with the bank) is distributed across the dataset. It's helpful to identify whether customers tend to stay long-term or leave within a few years. A histogram is ideal for showing the frequency of discrete numerical values like tenure."
      ],
      "metadata": {
        "id": "dcxuIMRPYuh3"
      }
    },
    {
      "cell_type": "markdown",
      "source": [
        "##### 2. What is/are the insight(s) found from the chart?"
      ],
      "metadata": {
        "id": "GwzvFGzlYuh3"
      }
    },
    {
      "cell_type": "markdown",
      "source": [
        "**Answer**:\n",
        "\n",
        "1. Tenure appears to be fairly evenly distributed from 1 to 9 years.\n",
        "\n",
        "2. However, tenure of 10 years has a significant spike, indicating a larger group of loyal, long-term customers.\n",
        "\n",
        "3. Very few customers have a tenure of 0, which may represent new or newly added accounts."
      ],
      "metadata": {
        "id": "uyqkiB8YYuh3"
      }
    },
    {
      "cell_type": "markdown",
      "source": [
        "##### 3. Will the gained insights help creating a positive business impact?\n",
        "Are there any insights that lead to negative growth? Justify with specific reason."
      ],
      "metadata": {
        "id": "qYpmQ266Yuh3"
      }
    },
    {
      "cell_type": "markdown",
      "source": [
        "**Business Impact**:\n",
        "\n",
        "1. The spike at 10 years suggests that once customers reach a long tenure, they are likely to stay, indicating high brand loyalty among older customers.\n",
        "\n",
        "2. Retention strategies could be designed to support customers in their early years (0–3 years) where dropout might be higher.\n",
        "\n",
        "3. Focused engagement and reward programs for long-tenure customers (like those at 10 years) can help in reducing churn further and enhancing lifetime value"
      ],
      "metadata": {
        "id": "_WtzZ_hCYuh4"
      }
    },
    {
      "cell_type": "markdown",
      "source": [
        "##**B-Bivariate Analysis**"
      ],
      "metadata": {
        "id": "Ifd656aFno_N"
      }
    },
    {
      "cell_type": "markdown",
      "source": [
        "#### Chart - 6 **Boxplot of Age vs. Churn**"
      ],
      "metadata": {
        "id": "OH-pJp9IphqM"
      }
    },
    {
      "cell_type": "code",
      "source": [
        "# Boxplot of Age vs. Churn visualization code\n",
        "sns.boxplot(data=df, x='Exited', y='Age', palette='Set2')\n",
        "plt.title('Age vs. Churn')\n",
        "plt.xlabel('Exited (0 = No, 1 = Yes)')\n",
        "plt.ylabel('Age')\n",
        "plt.show()"
      ],
      "metadata": {
        "id": "kuRf4wtuphqN"
      },
      "execution_count": null,
      "outputs": []
    },
    {
      "cell_type": "markdown",
      "source": [
        "##### 1. Why did you pick the specific chart?"
      ],
      "metadata": {
        "id": "bbFf2-_FphqN"
      }
    },
    {
      "cell_type": "markdown",
      "source": [
        "**Answer**: Boxplots are perfect for comparing the distribution of a numerical variable (Age) across categorical classes (Churn: 0 = Stayed, 1 = Exited). This helps in identifying any pattern or relationship between customer age and their likelihood of churning."
      ],
      "metadata": {
        "id": "loh7H2nzphqN"
      }
    },
    {
      "cell_type": "markdown",
      "source": [
        "##### 2. What is/are the insight(s) found from the chart?"
      ],
      "metadata": {
        "id": "_ouA3fa0phqN"
      }
    },
    {
      "cell_type": "markdown",
      "source": [
        "**Answer**:\n",
        "\n",
        "Customers who churned (Exited = 1) are generally older, with the median age around 45–50 years.\n",
        "\n",
        "Customers who did not churn (Exited = 0) are relatively younger, with the median around 35 years.\n",
        "\n",
        "The spread (IQR) of age is slightly wider for churned customers, and there are more outliers in the non-churned group."
      ],
      "metadata": {
        "id": "VECbqPI7phqN"
      }
    },
    {
      "cell_type": "markdown",
      "source": [
        "##### 3. Will the gained insights help creating a positive business impact?\n",
        "Are there any insights that lead to negative growth? Justify with specific reason."
      ],
      "metadata": {
        "id": "Seke61FWphqN"
      }
    },
    {
      "cell_type": "markdown",
      "source": [
        "**Business Impact**:\n",
        "\n",
        "1. Older customers are more likely to churn, indicating a potential age-based dissatisfaction or changing banking needs.\n",
        "\n",
        "2. The business should consider:\n",
        "\n",
        " 1. Personalized offers or financial products for older age groups.\n",
        "\n",
        " 2. Customer service enhancements or loyalty programs targeting senior customers.\n",
        "\n",
        "3. These actions could help reduce churn rate among a segment that is currently more prone to leaving the service."
      ],
      "metadata": {
        "id": "DW4_bGpfphqN"
      }
    },
    {
      "cell_type": "markdown",
      "source": [
        "#### Chart - 7 **Countplot of Gender vs. Churn**"
      ],
      "metadata": {
        "id": "PIIx-8_IphqN"
      }
    },
    {
      "cell_type": "code",
      "source": [
        "# Countplot of Gender vs. Churn visualization code\n",
        "sns.countplot(data=df, x='Gender', hue='Exited', palette='Set1')\n",
        "plt.title('Gender vs. Churn')\n",
        "plt.xlabel('Gender')\n",
        "plt.ylabel('Count')\n",
        "plt.show()"
      ],
      "metadata": {
        "id": "lqAIGUfyphqO"
      },
      "execution_count": null,
      "outputs": []
    },
    {
      "cell_type": "markdown",
      "source": [
        "##### 1. Why did you pick the specific chart?"
      ],
      "metadata": {
        "id": "t27r6nlMphqO"
      }
    },
    {
      "cell_type": "markdown",
      "source": [
        "**Answer**: The countplot of Gender vs. Churn was chosen because it visually compares the number of male and female customers who stayed versus those who exited. It helps in understanding if there is any correlation between gender and customer churn."
      ],
      "metadata": {
        "id": "iv6ro40sphqO"
      }
    },
    {
      "cell_type": "markdown",
      "source": [
        "##### 2. What is/are the insight(s) found from the chart?"
      ],
      "metadata": {
        "id": "r2jJGEOYphqO"
      }
    },
    {
      "cell_type": "markdown",
      "source": [
        "**Answer**: From the chart, we can observe that although there are more male customers overall, female customers have a higher proportion of churn compared to males."
      ],
      "metadata": {
        "id": "Po6ZPi4hphqO"
      }
    },
    {
      "cell_type": "markdown",
      "source": [
        "##### 3. Will the gained insights help creating a positive business impact?\n",
        "Are there any insights that lead to negative growth? Justify with specific reason."
      ],
      "metadata": {
        "id": "b0JNsNcRphqO"
      }
    },
    {
      "cell_type": "markdown",
      "source": [
        "**Business Impact**:\n",
        "This insight suggests that gender may be a contributing factor to customer attrition. It would be beneficial for the business to investigate the reasons behind higher female churn. Addressing gender-specific concerns through targeted strategies or offers could help reduce overall churn and improve customer retention, especially among female customers."
      ],
      "metadata": {
        "id": "xvSq8iUTphqO"
      }
    },
    {
      "cell_type": "markdown",
      "source": [
        "#### Chart - 8 **Countplot of Geography vs. Churn**"
      ],
      "metadata": {
        "id": "BZR9WyysphqO"
      }
    },
    {
      "cell_type": "code",
      "source": [
        "# Countplot of Geography vs. Churn visualization code\n",
        "sns.countplot(data=df, x='Geography', hue='Exited', palette='Set2')\n",
        "plt.title('Churn by Geography')\n",
        "plt.xlabel('Geography')\n",
        "plt.ylabel('Count')\n",
        "plt.show()"
      ],
      "metadata": {
        "id": "TdPTWpAVphqO"
      },
      "execution_count": null,
      "outputs": []
    },
    {
      "cell_type": "markdown",
      "source": [
        "##### 1. Why did you pick the specific chart?"
      ],
      "metadata": {
        "id": "jj7wYXLtphqO"
      }
    },
    {
      "cell_type": "markdown",
      "source": [
        "**Answer**: This countplot was chosen to compare the number of customers who stayed versus those who exited, segmented by geography. It allows us to analyze whether a customer's country is related to their likelihood of churning."
      ],
      "metadata": {
        "id": "Ob8u6rCTphqO"
      }
    },
    {
      "cell_type": "markdown",
      "source": [
        "##### 2. What is/are the insight(s) found from the chart?"
      ],
      "metadata": {
        "id": "eZrbJ2SmphqO"
      }
    },
    {
      "cell_type": "markdown",
      "source": [
        "**Answer**: The chart shows that while France has the highest total number of customers, the churn rate in Germany is relatively higher compared to France and Spain. This indicates that Germany has a disproportionately high number of customers exiting relative to its total customer base."
      ],
      "metadata": {
        "id": "mZtgC_hjphqO"
      }
    },
    {
      "cell_type": "markdown",
      "source": [
        "##### 3. Will the gained insights help creating a positive business impact?\n",
        "Are there any insights that lead to negative growth? Justify with specific reason."
      ],
      "metadata": {
        "id": "rFu4xreNphqO"
      }
    },
    {
      "cell_type": "markdown",
      "source": [
        "**Business Impact**:\n",
        "\n",
        "This insight is crucial for designing region-specific retention strategies. Since Germany has a higher churn rate, the business should investigate local issues or customer preferences that may be driving this behavior. Tailoring communication, services, or incentives for customers in Germany could lead to improved customer loyalty and reduced churn in that region."
      ],
      "metadata": {
        "id": "ey_0qi68phqO"
      }
    },
    {
      "cell_type": "markdown",
      "source": [
        "#### Chart - 9 **Boxplot: Balance vs. Churn**"
      ],
      "metadata": {
        "id": "YJ55k-q6phqO"
      }
    },
    {
      "cell_type": "code",
      "source": [
        "# Boxplot: Balance vs. Churn visualization code\n",
        "sns.boxplot(data=df, x='Exited', y='Balance', palette='Set2')\n",
        "plt.title('Balance vs. Churn')\n",
        "plt.xlabel('Exited')\n",
        "plt.ylabel('Balance')\n",
        "plt.show()"
      ],
      "metadata": {
        "id": "B2aS4O1ophqO"
      },
      "execution_count": null,
      "outputs": []
    },
    {
      "cell_type": "markdown",
      "source": [
        "##### 1. Why did you pick the specific chart?"
      ],
      "metadata": {
        "id": "gCFgpxoyphqP"
      }
    },
    {
      "cell_type": "markdown",
      "source": [
        "This boxplot was chosen to visualize the distribution of account balances for customers who exited versus those who stayed. It helps in understanding whether there's a relationship between a customer's balance and their likelihood to churn."
      ],
      "metadata": {
        "id": "TVxDimi2phqP"
      }
    },
    {
      "cell_type": "markdown",
      "source": [
        "##### 2. What is/are the insight(s) found from the chart?"
      ],
      "metadata": {
        "id": "OVtJsKN_phqQ"
      }
    },
    {
      "cell_type": "markdown",
      "source": [
        "From the graph, we can observe that customers who exited generally have higher account balances compared to those who stayed. The median balance of churned customers is noticeably greater, and the spread of their balances extends higher as well."
      ],
      "metadata": {
        "id": "ngGi97qjphqQ"
      }
    },
    {
      "cell_type": "markdown",
      "source": [
        "##### 3. Will the gained insights help creating a positive business impact?\n",
        "Are there any insights that lead to negative growth? Justify with specific reason."
      ],
      "metadata": {
        "id": "lssrdh5qphqQ"
      }
    },
    {
      "cell_type": "markdown",
      "source": [
        "**Business Impact**:\n",
        "\n",
        "This trend indicates that customers with larger balances are more prone to churn, which is alarming since losing high-value customers can significantly impact the business financially. This insight suggests the need for priority-based retention efforts, such as offering loyalty benefits or personalized services to high-balance customers to encourage them to remain with the bank."
      ],
      "metadata": {
        "id": "tBpY5ekJphqQ"
      }
    },
    {
      "cell_type": "markdown",
      "source": [
        "#### Chart - 10 **Barplot: Products Number vs. Churn**"
      ],
      "metadata": {
        "id": "U2RJ9gkRphqQ"
      }
    },
    {
      "cell_type": "code",
      "source": [
        "# Barplot: Products Number vs. Churn visualization code\n",
        "sns.barplot(data=df, x='NumOfProducts', y='Exited', palette='Set1')\n",
        "plt.title('Number of Products vs. Churn Rate')\n",
        "plt.xlabel('Number of Products')\n",
        "plt.ylabel('Churn Rate')\n",
        "plt.show()"
      ],
      "metadata": {
        "id": "GM7a4YP4phqQ"
      },
      "execution_count": null,
      "outputs": []
    },
    {
      "cell_type": "markdown",
      "source": [
        "##### 1. Why did you pick the specific chart?"
      ],
      "metadata": {
        "id": "1M8mcRywphqQ"
      }
    },
    {
      "cell_type": "markdown",
      "source": [
        "This barplot was chosen to show the relationship between the number of products a customer holds and their churn rate. It helps identify if having more or fewer products influences a customer's likelihood to leave the bank."
      ],
      "metadata": {
        "id": "8agQvks0phqQ"
      }
    },
    {
      "cell_type": "markdown",
      "source": [
        "##### 2. What is/are the insight(s) found from the chart?"
      ],
      "metadata": {
        "id": "tgIPom80phqQ"
      }
    },
    {
      "cell_type": "markdown",
      "source": [
        "The chart reveals that customers with two products have the lowest churn rate, while those with three or four products show a significantly higher churn rate, with customers holding four products having almost a 100% churn rate. Interestingly, even customers with just one product churn more than those with two."
      ],
      "metadata": {
        "id": "Qp13pnNzphqQ"
      }
    },
    {
      "cell_type": "markdown",
      "source": [
        "##### 3. Will the gained insights help creating a positive business impact?\n",
        "Are there any insights that lead to negative growth? Justify with specific reason."
      ],
      "metadata": {
        "id": "JMzcOPDDphqR"
      }
    },
    {
      "cell_type": "markdown",
      "source": [
        "**Business Impact**\n",
        "\n",
        "This insight suggests that simply increasing product subscriptions does not ensure customer retention and might even have the opposite effect. Customers with multiple products may have higher expectations or face more complexity, leading to dissatisfaction. The bank should focus on quality of service and customer experience rather than pushing product bundles, and carefully analyze why high-product users are leaving in such large numbers."
      ],
      "metadata": {
        "id": "R4Ka1PC2phqR"
      }
    },
    {
      "cell_type": "markdown",
      "source": [
        "#### Chart - 11 **Boxplot: Estimated Salary vs. Churn**"
      ],
      "metadata": {
        "id": "x-EpHcCOp1ci"
      }
    },
    {
      "cell_type": "code",
      "source": [
        "# Boxplot: Estimated Salary vs. Churn visualization code\n",
        "sns.boxplot(data=df, x='Exited', y='EstimatedSalary', palette='Set1')\n",
        "plt.title('Estimated Salary vs. Churn')\n",
        "plt.xlabel('Exited')\n",
        "plt.ylabel('Estimated Salary')\n",
        "plt.show()"
      ],
      "metadata": {
        "id": "mAQTIvtqp1cj"
      },
      "execution_count": null,
      "outputs": []
    },
    {
      "cell_type": "markdown",
      "source": [
        "##### 1. Why did you pick the specific chart?"
      ],
      "metadata": {
        "id": "X_VqEhTip1ck"
      }
    },
    {
      "cell_type": "markdown",
      "source": [
        "A boxplot was chosen to visualize the distribution of Estimated Salary among customers who stayed (Exited = 0) versus those who churned (Exited = 1). This helps detect if salary levels influence customer churn behavior."
      ],
      "metadata": {
        "id": "-vsMzt_np1ck"
      }
    },
    {
      "cell_type": "markdown",
      "source": [
        "##### 2. What is/are the insight(s) found from the chart?"
      ],
      "metadata": {
        "id": "8zGJKyg5p1ck"
      }
    },
    {
      "cell_type": "markdown",
      "source": [
        "The distributions for both churned and non-churned customers are very similar. The medians, interquartile ranges, and overall spread of estimated salaries show no significant difference between the two groups."
      ],
      "metadata": {
        "id": "ZYdMsrqVp1ck"
      }
    },
    {
      "cell_type": "markdown",
      "source": [
        "##### 3. Will the gained insights help creating a positive business impact?\n",
        "Are there any insights that lead to negative growth? Justify with specific reason."
      ],
      "metadata": {
        "id": "PVzmfK_Ep1ck"
      }
    },
    {
      "cell_type": "markdown",
      "source": [
        "**Business Impact**\n",
        "\n",
        "This suggests that Estimated Salary does not play a major role in churn decisions. Therefore, targeting or segmenting customers based on salary alone may not be effective in predicting or preventing churn. The bank should focus on other more impactful features like number of products, geography, or tenure for churn reduction strategies."
      ],
      "metadata": {
        "id": "druuKYZpp1ck"
      }
    },
    {
      "cell_type": "markdown",
      "source": [
        "#### Chart - 12 **Countplot of HasCrCard vs. Churn**"
      ],
      "metadata": {
        "id": "n3dbpmDWp1ck"
      }
    },
    {
      "cell_type": "code",
      "source": [
        "# Countplot of HasCrCard vs. Churn visualization code\n",
        "sns.countplot(data=df, x='HasCrCard', hue='Exited', palette='Set3')\n",
        "plt.title('Credit Card Ownership vs. Churn')\n",
        "plt.xlabel('Has Credit Card')\n",
        "plt.ylabel('Count')\n",
        "plt.show()"
      ],
      "metadata": {
        "id": "bwevp1tKp1ck"
      },
      "execution_count": null,
      "outputs": []
    },
    {
      "cell_type": "markdown",
      "source": [
        "##### 1. Why did you pick the specific chart?"
      ],
      "metadata": {
        "id": "ylSl6qgtp1ck"
      }
    },
    {
      "cell_type": "markdown",
      "source": [
        "A countplot was used to compare the number of customers with and without a credit card, split by their churn status. This helps us understand if owning a credit card influences the likelihood of customer churn."
      ],
      "metadata": {
        "id": "m2xqNkiQp1ck"
      }
    },
    {
      "cell_type": "markdown",
      "source": [
        "##### 2. What is/are the insight(s) found from the chart?"
      ],
      "metadata": {
        "id": "ZWILFDl5p1ck"
      }
    },
    {
      "cell_type": "markdown",
      "source": [
        "The majority of customers, both churned and non-churned, own a credit card. However, the churn rate appears slightly higher among customers without a credit card. Still, the difference is not very large or significant visually."
      ],
      "metadata": {
        "id": "x-lUsV2mp1ck"
      }
    },
    {
      "cell_type": "markdown",
      "source": [
        "##### 3. Will the gained insights help creating a positive business impact?\n",
        "Are there any insights that lead to negative growth? Justify with specific reason."
      ],
      "metadata": {
        "id": "M7G43BXep1ck"
      }
    },
    {
      "cell_type": "markdown",
      "source": [
        "**Business Impact**\n",
        "\n",
        "While credit card ownership has some association with churn, it is not a strong standalone predictor. The bank can consider integrating credit card data with other features (like product holding, tenure, or activity levels) to better understand customer retention patterns. Simply promoting credit cards may not be enough to reduce churn."
      ],
      "metadata": {
        "id": "5wwDJXsLp1cl"
      }
    },
    {
      "cell_type": "markdown",
      "source": [
        "#### Chart - 13 **Countplot of IsActiveMember vs. Churn**"
      ],
      "metadata": {
        "id": "Ag9LCva-p1cl"
      }
    },
    {
      "cell_type": "code",
      "source": [
        "# Countplot of IsActiveMember vs. Churn visualization code\n",
        "sns.countplot(data=df, x='IsActiveMember', hue='Exited', palette='Set2')\n",
        "plt.title('Active Membership vs. Churn')\n",
        "plt.xlabel('Is Active Member')\n",
        "plt.ylabel('Count')\n",
        "plt.show()"
      ],
      "metadata": {
        "id": "EUfxeq9-p1cl"
      },
      "execution_count": null,
      "outputs": []
    },
    {
      "cell_type": "markdown",
      "source": [
        "##### 1. Why did you pick the specific chart?"
      ],
      "metadata": {
        "id": "E6MkPsBcp1cl"
      }
    },
    {
      "cell_type": "markdown",
      "source": [
        "A countplot was selected to compare churn behavior between active and inactive members. This helps assess if active membership status has any effect on customer retention."
      ],
      "metadata": {
        "id": "V22bRsFWp1cl"
      }
    },
    {
      "cell_type": "markdown",
      "source": [
        "##### 2. What is/are the insight(s) found from the chart?"
      ],
      "metadata": {
        "id": "2cELzS2fp1cl"
      }
    },
    {
      "cell_type": "markdown",
      "source": [
        "Churn is significantly higher among inactive members compared to active ones. While both groups have customers who exited, inactive members show a higher churn proportion than active members."
      ],
      "metadata": {
        "id": "ozQPc2_Ip1cl"
      }
    },
    {
      "cell_type": "markdown",
      "source": [
        "##### 3. Will the gained insights help creating a positive business impact?\n",
        "Are there any insights that lead to negative growth? Justify with specific reason."
      ],
      "metadata": {
        "id": "3MPXvC8up1cl"
      }
    },
    {
      "cell_type": "markdown",
      "source": [
        "**Business Impact**\n",
        "\n",
        "Active engagement appears to reduce churn risk. The bank should focus on increasing customer activity by promoting loyalty programs, personalized offers, or engagement campaigns. Keeping customers active is a key strategy to improve retention and lower churn rates."
      ],
      "metadata": {
        "id": "GL8l1tdLp1cl"
      }
    },
    {
      "cell_type": "markdown",
      "source": [
        "##**M-Multivariate Analysis**"
      ],
      "metadata": {
        "id": "IQzCTLwApYdY"
      }
    },
    {
      "cell_type": "markdown",
      "source": [
        "#### Chart - 14 - Correlation Heatmap"
      ],
      "metadata": {
        "id": "NC_X3p0fY2L0"
      }
    },
    {
      "cell_type": "code",
      "source": [
        "# Correlation Heatmap visualization code\n",
        "plt.figure(figsize=(10, 6))\n",
        "sns.heatmap(df.select_dtypes(include='number').corr(), annot=True, cmap='coolwarm', fmt='.2f')\n",
        "plt.title('Correlation Heatmap')\n",
        "plt.show()"
      ],
      "metadata": {
        "id": "xyC9zolEZNRQ"
      },
      "execution_count": null,
      "outputs": []
    },
    {
      "cell_type": "markdown",
      "source": [
        "##### 1. Why did you pick the specific chart?"
      ],
      "metadata": {
        "id": "UV0SzAkaZNRQ"
      }
    },
    {
      "cell_type": "markdown",
      "source": [
        "A correlation heatmap was used to understand the linear relationships between numerical features and the churn (Exited) variable. It helps identify which features are most closely associated with customer churn."
      ],
      "metadata": {
        "id": "DVPuT8LYZNRQ"
      }
    },
    {
      "cell_type": "markdown",
      "source": [
        "##### 2. What is/are the insight(s) found from the chart?"
      ],
      "metadata": {
        "id": "YPEH6qLeZNRQ"
      }
    },
    {
      "cell_type": "markdown",
      "source": [
        "**Insight**:\n",
        "\n",
        "* Age shows a moderate positive correlation (0.29) with churn — older customers are more likely to exit.\n",
        "\n",
        "* IsActiveMember shows a negative correlation (-0.16) — active members tend to stay.\n",
        "\n",
        "* Balance and NumOfProducts also show some correlation, though weaker.\n",
        "\n",
        "* Most other variables, like CreditScore, Tenure, and EstimatedSalary, show little to no linear correlation with churn."
      ],
      "metadata": {
        "id": "bfSqtnDqZNRR"
      }
    },
    {
      "cell_type": "markdown",
      "source": [
        "#### Chart - 15 - Pair Plot"
      ],
      "metadata": {
        "id": "q29F0dvdveiT"
      }
    },
    {
      "cell_type": "code",
      "source": [
        "# Pair Plot visualization code\n",
        "sns.pairplot(df[['CreditScore', 'Age', 'Balance', 'EstimatedSalary', 'Exited']], hue='Exited')\n",
        "plt.suptitle('Pairplot of Selected Features', y=1.02)\n",
        "plt.show()"
      ],
      "metadata": {
        "id": "o58-TEIhveiU"
      },
      "execution_count": null,
      "outputs": []
    },
    {
      "cell_type": "markdown",
      "source": [
        "##### 1. Why did you pick the specific chart?"
      ],
      "metadata": {
        "id": "EXh0U9oCveiU"
      }
    },
    {
      "cell_type": "markdown",
      "source": [
        "A pairplot provides a comprehensive view of pairwise relationships and distributions between multiple numerical features, segmented by churn (Exited). It’s useful for detecting patterns, clusters, and potential nonlinear relationships across features."
      ],
      "metadata": {
        "id": "eMmPjTByveiU"
      }
    },
    {
      "cell_type": "markdown",
      "source": [
        "##### 2. What is/are the insight(s) found from the chart?"
      ],
      "metadata": {
        "id": "22aHeOlLveiV"
      }
    },
    {
      "cell_type": "markdown",
      "source": [
        "**Insight**\n",
        "\n",
        "* Age shows a visible pattern: churned customers (orange) are mostly concentrated in higher age groups, supporting earlier findings.\n",
        "\n",
        "* Balance and Credit Score appear scattered with no clear separation by churn.\n",
        "\n",
        "* Estimated Salary shows almost uniform distribution, indicating low influence on churn.\n",
        "\n",
        "* No strong visual clustering was found in other pairs.\n",
        "\n"
      ],
      "metadata": {
        "id": "uPQ8RGwHveiV"
      }
    },
    {
      "cell_type": "markdown",
      "source": [
        "## ***6. Feature Engineering & Data Pre-processing***"
      ],
      "metadata": {
        "id": "yLjJCtPM0KBk"
      }
    },
    {
      "cell_type": "markdown",
      "source": [
        "### 1. Handling Missing Values"
      ],
      "metadata": {
        "id": "xiyOF9F70UgQ"
      }
    },
    {
      "cell_type": "code",
      "source": [
        "# Handling Missing Values & Missing Value Imputation\n",
        "# Checking for missing values\n",
        "df.isnull().sum()"
      ],
      "metadata": {
        "id": "iRsAHk1K0fpS"
      },
      "execution_count": null,
      "outputs": []
    },
    {
      "cell_type": "markdown",
      "source": [
        "#### What all missing value imputation techniques have you used and why did you use those techniques?"
      ],
      "metadata": {
        "id": "7wuGOrhz0itI"
      }
    },
    {
      "cell_type": "markdown",
      "source": [
        "There is no missing value in the dataset."
      ],
      "metadata": {
        "id": "1ixusLtI0pqI"
      }
    },
    {
      "cell_type": "markdown",
      "source": [
        "### 2. Handling Outliers"
      ],
      "metadata": {
        "id": "id1riN9m0vUs"
      }
    },
    {
      "cell_type": "code",
      "source": [
        "# Handling Outliers & Outlier treatments\n",
        "# Using IQR method for 'Balance'\n",
        "Q1 = df['EstimatedSalary'].quantile(0.25)\n",
        "Q3 = df['EstimatedSalary'].quantile(0.75)\n",
        "IQR = Q3 - Q1\n",
        "\n",
        "# Define bounds\n",
        "lower_bound = Q1 - 1.5 * IQR\n",
        "upper_bound = Q3 + 1.5 * IQR\n",
        "\n",
        "# Filtering out the outliers\n",
        "df = df[(df['EstimatedSalary'] >= lower_bound) & (df['EstimatedSalary'] <= upper_bound)]\n",
        "df"
      ],
      "metadata": {
        "id": "M6w2CzZf04JK"
      },
      "execution_count": null,
      "outputs": []
    },
    {
      "cell_type": "code",
      "source": [
        "# Using IQR method for 'Balance'\n",
        "Q1 = df['Balance'].quantile(0.25)\n",
        "Q3 = df['Balance'].quantile(0.75)\n",
        "IQR = Q3 - Q1\n",
        "\n",
        "# Define bounds\n",
        "lower_bound = Q1 - 1.5 * IQR\n",
        "upper_bound = Q3 + 1.5 * IQR\n",
        "\n",
        "# Filtering out the outliers\n",
        "df = df[(df['Balance'] >= lower_bound) & (df['Balance'] <= upper_bound)]\n",
        "df"
      ],
      "metadata": {
        "id": "8eYQZK09qdNl"
      },
      "execution_count": null,
      "outputs": []
    },
    {
      "cell_type": "markdown",
      "source": [
        "##### What all outlier treatment techniques have you used and why did you use those techniques?"
      ],
      "metadata": {
        "id": "578E2V7j08f6"
      }
    },
    {
      "cell_type": "markdown",
      "source": [
        "IQR Method: It's a common technique for identifying and removing extreme values without assuming a normal distribution. Effective for features like Balance or EstimatedSalary. There is no outlier present in the dataset."
      ],
      "metadata": {
        "id": "uGZz5OrT1HH-"
      }
    },
    {
      "cell_type": "markdown",
      "source": [
        "### 3. Categorical Encoding"
      ],
      "metadata": {
        "id": "89xtkJwZ18nB"
      }
    },
    {
      "cell_type": "code",
      "source": [
        "# Encode your categorical columns\n",
        "# One-Hot Encoding for nominal features like Geography\n",
        "df = pd.get_dummies(df, columns=['Geography'])\n",
        "\n",
        "# Label Encoding for binary features like Gender\n",
        "from sklearn.preprocessing import LabelEncoder\n",
        "le = LabelEncoder()\n",
        "df['Gender'] = le.fit_transform(df['Gender'])"
      ],
      "metadata": {
        "id": "21JmIYMG2hEo"
      },
      "execution_count": null,
      "outputs": []
    },
    {
      "cell_type": "code",
      "source": [
        "df['Geography_France'] = le.fit_transform(df['Geography_France'])\n",
        "df['Geography_Germany'] = le.fit_transform(df['Geography_Germany'])\n",
        "df['Geography_Spain'] = le.fit_transform(df['Geography_Spain'])\n",
        "df"
      ],
      "metadata": {
        "id": "bCTsTzgPvhlp"
      },
      "execution_count": null,
      "outputs": []
    },
    {
      "cell_type": "markdown",
      "source": [
        "#### What all categorical encoding techniques have you used & why did you use those techniques?"
      ],
      "metadata": {
        "id": "67NQN5KX2AMe"
      }
    },
    {
      "cell_type": "markdown",
      "source": [
        "**One-Hot Encoding**: Best for nominal (no order) categorical variables with multiple unique values.\n",
        "\n",
        "**Label Encoding**: Suitable for binary columns where no ordinal relationship exists."
      ],
      "metadata": {
        "id": "UDaue5h32n_G"
      }
    },
    {
      "cell_type": "markdown",
      "source": [
        "### 8. Data Splitting"
      ],
      "metadata": {
        "id": "BhH2vgX9EjGr"
      }
    },
    {
      "cell_type": "code",
      "source": [
        "from sklearn.model_selection import train_test_split\n",
        "# Splitting data into dependent and independent columns\n",
        "X=df.drop(labels=['Exited'],axis=1)\n",
        "y=df['Exited']\n",
        "\n",
        "# Split your data to train and test. Choose Splitting ratio wisely.\n",
        "# Splitting the data: 80% training, 20% testing\n",
        "X_train, X_test, y_train, y_test = train_test_split(X, y, test_size=0.2, random_state=42, stratify=y)"
      ],
      "metadata": {
        "id": "0CTyd2UwEyNM"
      },
      "execution_count": null,
      "outputs": []
    },
    {
      "cell_type": "markdown",
      "source": [
        "##### What data splitting ratio have you used and why?"
      ],
      "metadata": {
        "id": "qjKvONjwE8ra"
      }
    },
    {
      "cell_type": "markdown",
      "source": [
        "We split the dataset into training and testing sets using an 80:20 ratio to ensure that model performance can be evaluated on unseen data. We used stratified sampling to maintain the proportion of churned and non-churned customers."
      ],
      "metadata": {
        "id": "Y2lJ8cobFDb_"
      }
    },
    {
      "cell_type": "markdown",
      "source": [
        "### 9. Handling Imbalanced Dataset"
      ],
      "metadata": {
        "id": "P1XJ9OREExlT"
      }
    },
    {
      "cell_type": "code",
      "source": [
        "y.value_counts(normalize=True)"
      ],
      "metadata": {
        "id": "XOJfQtIh2pj8"
      },
      "execution_count": null,
      "outputs": []
    },
    {
      "cell_type": "markdown",
      "source": [
        "##### Do you think the dataset is imbalanced? Explain Why."
      ],
      "metadata": {
        "id": "VFOzZv6IFROw"
      }
    },
    {
      "cell_type": "markdown",
      "source": [
        "Answer Here."
      ],
      "metadata": {
        "id": "GeKDIv7pFgcC"
      }
    },
    {
      "cell_type": "code",
      "source": [
        "# Handling Imbalanced Dataset (If needed)"
      ],
      "metadata": {
        "id": "nQsRhhZLFiDs"
      },
      "execution_count": null,
      "outputs": []
    },
    {
      "cell_type": "markdown",
      "source": [
        "##### What technique did you use to handle the imbalance dataset and why? (If needed to be balanced)"
      ],
      "metadata": {
        "id": "TIqpNgepFxVj"
      }
    },
    {
      "cell_type": "markdown",
      "source": [
        "Answer Here."
      ],
      "metadata": {
        "id": "qbet1HwdGDTz"
      }
    },
    {
      "cell_type": "markdown",
      "source": [
        "## ***7. ML Model Implementation***"
      ],
      "metadata": {
        "id": "VfCC591jGiD4"
      }
    },
    {
      "cell_type": "markdown",
      "source": [
        "### ML Model - 1"
      ],
      "metadata": {
        "id": "OB4l2ZhMeS1U"
      }
    },
    {
      "cell_type": "code",
      "source": [
        "# ML Model - 1 Implementation\n",
        "# Import required libraries\n",
        "import pandas as pd\n",
        "import numpy as np\n",
        "from sklearn.linear_model import LogisticRegression\n",
        "from sklearn.metrics import accuracy_score, precision_score, recall_score, f1_score, roc_auc_score, confusion_matrix, classification_report\n",
        "from sklearn.model_selection import train_test_split\n",
        "\n",
        "# Initialize Logistic Regression model\n",
        "clf = LogisticRegression(max_iter=1000)  # Increase max_iter if convergence warnings\n",
        "\n",
        "# Fit the model\n",
        "clf.fit(X_train, y_train)\n",
        "\n",
        "# Predict on the test set\n",
        "y_pred = clf.predict(X_test)\n",
        "y_proba = clf.predict_proba(X_test)[:, 1]  # For ROC-AUC"
      ],
      "metadata": {
        "id": "7ebyywQieS1U"
      },
      "execution_count": null,
      "outputs": []
    },
    {
      "cell_type": "markdown",
      "source": [
        "#### 1. Explain the ML Model used and it's performance using Evaluation metric Score Chart."
      ],
      "metadata": {
        "id": "ArJBuiUVfxKd"
      }
    },
    {
      "cell_type": "code",
      "source": [
        "# Visualizing evaluation Metric Score chart\n",
        "# Evaluation metrics\n",
        "print(\"Classification Report:\\n\", classification_report(y_test, y_pred))\n",
        "print(\"Confusion Matrix:\\n\", confusion_matrix(y_test, y_pred))\n",
        "print(\"Accuracy:\", accuracy_score(y_test, y_pred))\n",
        "print(\"Precision:\", precision_score(y_test, y_pred))\n",
        "print(\"Recall:\", recall_score(y_test, y_pred))\n",
        "print(\"F1 Score:\", f1_score(y_test, y_pred))\n",
        "print(\"ROC AUC Score:\", roc_auc_score(y_test, y_proba))"
      ],
      "metadata": {
        "id": "rqD5ZohzfxKe"
      },
      "execution_count": null,
      "outputs": []
    },
    {
      "cell_type": "markdown",
      "source": [
        "#### 2. Cross- Validation & Hyperparameter Tuning"
      ],
      "metadata": {
        "id": "4qY1EAkEfxKe"
      }
    },
    {
      "cell_type": "code",
      "source": [
        "#ML Model - 1 Implementation with hyperparameter optimization techniques (i.e., GridSearch CV, RandomSearch CV, Bayesian Optimization etc.)\n",
        "\n",
        "# Step 1: Import libraries\n",
        "from sklearn.linear_model import LogisticRegression\n",
        "from sklearn.model_selection import GridSearchCV, StratifiedKFold\n",
        "from sklearn.metrics import classification_report, confusion_matrix, roc_auc_score, roc_curve\n",
        "import matplotlib.pyplot as plt\n",
        "import seaborn as sns\n",
        "\n",
        "# Step 2: Define parameter grid for tuning\n",
        "param_grid = {\n",
        "    'C': [0.01, 0.1, 1, 10],               # Regularization strength\n",
        "    'penalty': ['l1', 'l2'],               # Type of regularization\n",
        "    'solver': ['liblinear']                # Solver that supports both l1 and l2\n",
        "}\n",
        "\n",
        "# Step 3: Create Logistic Regression model\n",
        "logreg = LogisticRegression()\n",
        "\n",
        "# Step 4: Use Stratified K-Fold Cross-Validation\n",
        "cv = StratifiedKFold(n_splits=5, shuffle=True, random_state=42)\n",
        "\n",
        "# Step 5: Grid Search with Cross-Validation\n",
        "grid_search = GridSearchCV(logreg, param_grid, cv=cv, scoring='roc_auc', verbose=1)\n",
        "grid_search.fit(X_train, y_train)\n",
        "\n",
        "# Step 6: Get best estimator\n",
        "best_model = grid_search.best_estimator_\n",
        "\n",
        "# Step 7: Predict on the test set\n",
        "y_pred = best_model.predict(X_test)\n",
        "y_prob = best_model.predict_proba(X_test)[:, 1]\n",
        "\n",
        "# Step 8: Evaluate the model\n",
        "print(\"Best Parameters:\", grid_search.best_params_)\n",
        "print(\"\\nClassification Report:\\n\", classification_report(y_test, y_pred))\n",
        "print(\"Confusion Matrix:\\n\", confusion_matrix(y_test, y_pred))\n",
        "print(\"ROC AUC Score:\", roc_auc_score(y_test, y_prob))\n",
        "\n",
        "# Step 9: ROC Curve\n",
        "fpr, tpr, _ = roc_curve(y_test, y_prob)\n",
        "plt.figure(figsize=(8, 6))\n",
        "plt.plot(fpr, tpr, label=f'ROC Curve (AUC = {roc_auc_score(y_test, y_prob):.2f})')\n",
        "plt.plot([0, 1], [0, 1], 'k--', label='Random Classifier')\n",
        "plt.xlabel('False Positive Rate')\n",
        "plt.ylabel('True Positive Rate')\n",
        "plt.title('ROC Curve - Tuned Logistic Regression')\n",
        "plt.legend()\n",
        "plt.grid(True)\n",
        "plt.show()"
      ],
      "metadata": {
        "id": "Dy61ujd6fxKe"
      },
      "execution_count": null,
      "outputs": []
    },
    {
      "cell_type": "code",
      "source": [
        "import numpy as np\n",
        "import matplotlib.pyplot as plt\n",
        "\n",
        "# Performance metrics before and after hyperparameter tuning\n",
        "metrics_names = ['Accuracy', 'Precision', 'Recall', 'F1 Score', 'ROC AUC']\n",
        "pre_tuning = [0.8085, 0.5845, 0.2039, 0.3024, 0.7732]\n",
        "post_tuning = [0.8100, 0.5860, 0.1870, 0.2780, 0.7746]\n",
        "\n",
        "# Setup bar chart\n",
        "x = np.arange(len(metrics_names))\n",
        "width = 0.35\n",
        "\n",
        "plt.figure(figsize=(8, 5))\n",
        "plt.bar(x - width/2, pre_tuning, width, label='Pre-Tuning')\n",
        "plt.bar(x + width/2, post_tuning, width, label='Post-Tuning')\n",
        "plt.xticks(x, metrics_names, rotation=45, ha='right')\n",
        "plt.ylabel('Score')\n",
        "plt.title('Model Performance Before vs After Hyperparameter Tuning')\n",
        "plt.legend()\n",
        "plt.tight_layout()\n",
        "plt.show()"
      ],
      "metadata": {
        "id": "6_QGApFl-734"
      },
      "execution_count": null,
      "outputs": []
    },
    {
      "cell_type": "markdown",
      "source": [
        "* Which hyperparameter optimization technique have you used and why?"
      ],
      "metadata": {
        "id": "PiV4Ypx8fxKe"
      }
    },
    {
      "cell_type": "markdown",
      "source": [
        "For tuning the Logistic Regression model, I used GridSearchCV, which is a grid-based exhaustive search over a specified parameter space. GridSearchCV tries all possible combinations of given hyperparameters and evaluates them using cross-validation, selecting the one that gives the best performance."
      ],
      "metadata": {
        "id": "negyGRa7fxKf"
      }
    },
    {
      "cell_type": "markdown",
      "source": [
        "##### Have you seen any improvement? Note down the improvement with updates Evaluation metric Score Chart."
      ],
      "metadata": {
        "id": "TfvqoZmBfxKf"
      }
    },
    {
      "cell_type": "markdown",
      "source": [
        "####**Improvement Summary**\n",
        "* Accuracy increased slightly from 0.8085 to 0.8100 (+0.0015).\n",
        "\n",
        "* Precision for the churn class improved marginally from 0.5845 to 0.5860.\n",
        "\n",
        "* Recall dropped from 0.2039 to 0.1870, indicating fewer churners correctly identified.\n",
        "\n",
        "* F1 Score decreased from 0.3024 to 0.2780, reflecting the trade‑off between precision and recall.\n",
        "\n",
        "* ROC AUC Score saw a small bump from 0.7732 to 0.7746 (+0.0014), showing a minor improvement in class separability.\n",
        "\n",
        "Overall, hyperparameter tuning yielded a modest gain in overall accuracy and ROC AUC, but at the cost of lower recall for the churn class. This indicates that further strategies—such as rebalancing the data or trying different algorithms—may be necessary to better capture churners."
      ],
      "metadata": {
        "id": "OaLui8CcfxKf"
      }
    },
    {
      "cell_type": "markdown",
      "source": [
        "## ***8.*** ***Future Work (Optional)***"
      ],
      "metadata": {
        "id": "EyNgTHvd2WFk"
      }
    },
    {
      "cell_type": "markdown",
      "source": [
        "### 1. Save the best performing ml model in a pickle file or joblib file format for deployment process.\n"
      ],
      "metadata": {
        "id": "KH5McJBi2d8v"
      }
    },
    {
      "cell_type": "code",
      "source": [
        "# Save the File\n",
        "import joblib\n",
        "\n",
        "# Save the model to a file\n",
        "joblib.dump(best_model, 'logistic_regression_best_model.pkl')\n",
        "print(\"Model saved as logistic_regression_best_model.pkl\")"
      ],
      "metadata": {
        "id": "bQIANRl32f4J"
      },
      "execution_count": null,
      "outputs": []
    },
    {
      "cell_type": "code",
      "source": [
        "loaded_model = joblib.load('logistic_regression_best_model.pkl')\n",
        "loaded_model"
      ],
      "metadata": {
        "id": "7r0IHArrAHTN"
      },
      "execution_count": null,
      "outputs": []
    },
    {
      "cell_type": "markdown",
      "source": [
        "### ***Congrats! Your model is successfully created and ready for deployment on a live server for a real user interaction !!!***"
      ],
      "metadata": {
        "id": "-Kee-DAl2viO"
      }
    },
    {
      "cell_type": "markdown",
      "source": [
        "# **Conclusion**"
      ],
      "metadata": {
        "id": "gCX9965dhzqZ"
      }
    },
    {
      "cell_type": "markdown",
      "source": [
        "In this project, we conducted a comprehensive analysis of the customer churn dataset to identify patterns, trends, and key factors influencing customer attrition. After performing thorough data preprocessing—including handling missing values, encoding categorical features, addressing outliers, and splitting the data—we implemented multiple machine learning models to predict customer churn.\n",
        "\n",
        "Among the models tested, Logistic Regression with hyperparameter tuning using GridSearchCV delivered consistent performance and interpretability. While the overall accuracy remained around 81%, we observed limitations in recall and F1-score for predicting churned customers (class 1), indicating some imbalance in the dataset and the inherent difficulty of predicting rare events.\n",
        "\n",
        "The model's ROC AUC score of approximately 0.77 demonstrates that it is capable of distinguishing between churned and retained customers better than random guessing.\n",
        "\n",
        "Key features affecting churn include Credit Score, Age, Balance, Tenure, and Number of Products, which suggests that banks and financial institutions should focus retention strategies on customers with high risk profiles based on these indicators.\n",
        "\n",
        "Finally, the best model was saved using joblib for future deployment purposes, making it ready for integration into a real-time decision-making system, such as a customer dashboard or automated alert system.\n",
        "\n"
      ],
      "metadata": {
        "id": "Fjb1IsQkh3yE"
      }
    },
    {
      "cell_type": "markdown",
      "source": [
        "### ***Hurrah! You have successfully completed your Machine Learning Capstone Project !!!***"
      ],
      "metadata": {
        "id": "gIfDvo9L0UH2"
      }
    }
  ]
}